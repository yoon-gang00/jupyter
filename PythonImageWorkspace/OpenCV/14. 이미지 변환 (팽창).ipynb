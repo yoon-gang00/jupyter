{
 "cells": [
  {
   "cell_type": "markdown",
   "id": "24bb1e71",
   "metadata": {},
   "source": [
    "# 14. 이미지 변환 (팽창)"
   ]
  },
  {
   "cell_type": "markdown",
   "id": "a0f95ab9",
   "metadata": {},
   "source": [
    "## 이미지를 확장하여 작은 구멍을 채움\n",
    "흰색 영역의 외곽 픽셀 주변에 흰색을 추가"
   ]
  },
  {
   "cell_type": "code",
   "execution_count": 4,
   "id": "223bea0f",
   "metadata": {},
   "outputs": [
    {
     "ename": "SyntaxError",
     "evalue": "invalid syntax (<ipython-input-4-dcbf1c6c3b52>, line 7)",
     "output_type": "error",
     "traceback": [
      "\u001b[1;36m  File \u001b[1;32m\"<ipython-input-4-dcbf1c6c3b52>\"\u001b[1;36m, line \u001b[1;32m7\u001b[0m\n\u001b[1;33m    img = cv2.imread('dilate.png',cv2,.IMREAD)\u001b[0m\n\u001b[1;37m                                      ^\u001b[0m\n\u001b[1;31mSyntaxError\u001b[0m\u001b[1;31m:\u001b[0m invalid syntax\n"
     ]
    }
   ],
   "source": [
    "import cv2\n",
    "import numpy as np\n",
    "\n",
    "kernel = np.ones((3,3),dtype = np.uint8)\n",
    "#kernel\n",
    "\n",
    "img = cv2.imread('dilate.png',cv2,.IMREAD_GRAYSCALE)\n",
    "dilate1 = cv2.dilate(img, kernel, iterations =1) # 반복 횟수\n",
    "dilate2 = cv2.dilate(img, kernel, iterations =2) # 반복 횟수\n",
    "dilate3 = cv2.dilate(img, kernel, iterations =3) # 반복 횟수\n",
    "\n",
    "cv2.imshow('gray',img)\n",
    "cv2.imshow('dilate1',dilate1)\n",
    "cv2.imshow('dilate2',dilate2)\n",
    "cv2.imshow('dilate3',dilate3)\n",
    "cv2.waitKey(0)\n",
    "cv2.destroyAllWindows()"
   ]
  },
  {
   "cell_type": "code",
   "execution_count": null,
   "id": "9fad087c",
   "metadata": {},
   "outputs": [],
   "source": []
  },
  {
   "cell_type": "code",
   "execution_count": null,
   "id": "92f49d05",
   "metadata": {},
   "outputs": [],
   "source": []
  },
  {
   "cell_type": "code",
   "execution_count": null,
   "id": "c2d10cac",
   "metadata": {},
   "outputs": [],
   "source": []
  }
 ],
 "metadata": {
  "kernelspec": {
   "display_name": "Python 3",
   "language": "python",
   "name": "python3"
  },
  "language_info": {
   "codemirror_mode": {
    "name": "ipython",
    "version": 3
   },
   "file_extension": ".py",
   "mimetype": "text/x-python",
   "name": "python",
   "nbconvert_exporter": "python",
   "pygments_lexer": "ipython3",
   "version": "3.8.8"
  }
 },
 "nbformat": 4,
 "nbformat_minor": 5
}
