{
 "cells": [
  {
   "cell_type": "markdown",
   "id": "8723e5e3",
   "metadata": {},
   "source": [
    "# 9. 이미지 회전\n",
    "\n",
    "## 시계 방향 90도 회전"
   ]
  },
  {
   "cell_type": "code",
   "execution_count": 2,
   "id": "929069ab",
   "metadata": {},
   "outputs": [],
   "source": [
    "import cv2\n",
    "img = cv2.imread('img.jpg')\n",
    "\n",
    "rotate_90 = cv2.rotate(img,cv2.ROTATE_90_CLOCKWISE) # 시계 방향으로 90도 회전\n",
    "\n",
    "cv2.imshow('img',img)\n",
    "cv2.imshow('rotate_90',rotate_90)\n",
    "cv2.waitKey(0)\n",
    "cv2.destroyAllWindows()"
   ]
  },
  {
   "cell_type": "markdown",
   "id": "61c389e8",
   "metadata": {},
   "source": [
    "## 180 도 회전"
   ]
  },
  {
   "cell_type": "code",
   "execution_count": 3,
   "id": "0a777717",
   "metadata": {},
   "outputs": [],
   "source": [
    "import cv2\n",
    "img = cv2.imread('img.jpg')\n",
    "\n",
    "rotate_180 = cv2.rotate(img,cv2.ROTATE_180) # 180도 회전\n",
    "\n",
    "cv2.imshow('img',img)\n",
    "cv2.imshow('rotate_180',rotate_180)\n",
    "cv2.waitKey(0)\n",
    "cv2.destroyAllWindows()"
   ]
  },
  {
   "cell_type": "markdown",
   "id": "dbbd1a8a",
   "metadata": {},
   "source": [
    "## 시계 반대 방향 90도 회전 (시계 방향 270도 회전)"
   ]
  },
  {
   "cell_type": "code",
   "execution_count": 4,
   "id": "395a4aa4",
   "metadata": {},
   "outputs": [],
   "source": [
    "import cv2\n",
    "img = cv2.imread('img.jpg')\n",
    "\n",
    "rotate_270 = cv2.rotate(img,cv2.ROTATE_90_COUNTERCLOCKWISE) # 시계 반대방향으로 90도 회전\n",
    "\n",
    "cv2.imshow('img',img)\n",
    "cv2.imshow('rotate_270',rotate_270)\n",
    "cv2.waitKey(0)\n",
    "cv2.destroyAllWindows()"
   ]
  }
 ],
 "metadata": {
  "kernelspec": {
   "display_name": "Python 3",
   "language": "python",
   "name": "python3"
  },
  "language_info": {
   "codemirror_mode": {
    "name": "ipython",
    "version": 3
   },
   "file_extension": ".py",
   "mimetype": "text/x-python",
   "name": "python",
   "nbconvert_exporter": "python",
   "pygments_lexer": "ipython3",
   "version": "3.8.8"
  }
 },
 "nbformat": 4,
 "nbformat_minor": 5
}
